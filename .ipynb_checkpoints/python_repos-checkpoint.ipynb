{
 "cells": [
  {
   "cell_type": "code",
   "execution_count": 3,
   "metadata": {},
   "outputs": [],
   "source": [
    "import requests\n",
    "import pygal"
   ]
  },
  {
   "cell_type": "code",
   "execution_count": 4,
   "metadata": {},
   "outputs": [],
   "source": [
    "from pygal.style import LightColorizedStyle as LCS, LightenStyle as LS"
   ]
  },
  {
   "cell_type": "code",
   "execution_count": 5,
   "metadata": {},
   "outputs": [],
   "source": [
    "url = 'https://api.github.com/search/repositories?q=machine+learning&sort=stars'"
   ]
  },
  {
   "cell_type": "code",
   "execution_count": 6,
   "metadata": {},
   "outputs": [],
   "source": [
    "r = requests.get(url)"
   ]
  },
  {
   "cell_type": "code",
   "execution_count": 7,
   "metadata": {},
   "outputs": [
    {
     "name": "stdout",
     "output_type": "stream",
     "text": [
      "Status code: 200\n"
     ]
    }
   ],
   "source": [
    "print(\"Status code:\", r.status_code)"
   ]
  },
  {
   "cell_type": "code",
   "execution_count": 8,
   "metadata": {},
   "outputs": [],
   "source": [
    "response_dict = r.json()"
   ]
  },
  {
   "cell_type": "code",
   "execution_count": 9,
   "metadata": {},
   "outputs": [
    {
     "name": "stdout",
     "output_type": "stream",
     "text": [
      "Total repositories: 183451\n"
     ]
    }
   ],
   "source": [
    "print(\"Total repositories:\", response_dict['total_count'])"
   ]
  },
  {
   "cell_type": "code",
   "execution_count": 10,
   "metadata": {},
   "outputs": [],
   "source": [
    "repo_dicts = response_dict['items']"
   ]
  },
  {
   "cell_type": "code",
   "execution_count": 11,
   "metadata": {},
   "outputs": [],
   "source": [
    "names, stars = [], []"
   ]
  },
  {
   "cell_type": "code",
   "execution_count": 12,
   "metadata": {},
   "outputs": [],
   "source": [
    "for repo_dict in repo_dicts:\n",
    "    names.append(repo_dict['name'])\n",
    "    stars.append(repo_dict['stargazers_count'])"
   ]
  },
  {
   "cell_type": "code",
   "execution_count": 13,
   "metadata": {},
   "outputs": [],
   "source": [
    "my_style = LS('#333366', base_style=LCS)"
   ]
  },
  {
   "cell_type": "code",
   "execution_count": 14,
   "metadata": {},
   "outputs": [],
   "source": [
    "chart = pygal.Bar(style=my_style, x_label_rotation=45, show_legend=False)"
   ]
  },
  {
   "cell_type": "code",
   "execution_count": 15,
   "metadata": {},
   "outputs": [],
   "source": [
    "chart.x_labels = names"
   ]
  },
  {
   "cell_type": "code",
   "execution_count": 16,
   "metadata": {},
   "outputs": [
    {
     "ename": "ModuleNotFoundError",
     "evalue": "No module named 'cairosvg'",
     "output_type": "error",
     "traceback": [
      "\u001b[1;31m---------------------------------------------------------------------------\u001b[0m",
      "\u001b[1;31mModuleNotFoundError\u001b[0m                       Traceback (most recent call last)",
      "\u001b[1;32md:\\program files\\python3\\lib\\site-packages\\IPython\\core\\formatters.py\u001b[0m in \u001b[0;36m__call__\u001b[1;34m(self, obj)\u001b[0m\n\u001b[0;32m    343\u001b[0m             \u001b[0mmethod\u001b[0m \u001b[1;33m=\u001b[0m \u001b[0mget_real_method\u001b[0m\u001b[1;33m(\u001b[0m\u001b[0mobj\u001b[0m\u001b[1;33m,\u001b[0m \u001b[0mself\u001b[0m\u001b[1;33m.\u001b[0m\u001b[0mprint_method\u001b[0m\u001b[1;33m)\u001b[0m\u001b[1;33m\u001b[0m\u001b[1;33m\u001b[0m\u001b[0m\n\u001b[0;32m    344\u001b[0m             \u001b[1;32mif\u001b[0m \u001b[0mmethod\u001b[0m \u001b[1;32mis\u001b[0m \u001b[1;32mnot\u001b[0m \u001b[1;32mNone\u001b[0m\u001b[1;33m:\u001b[0m\u001b[1;33m\u001b[0m\u001b[1;33m\u001b[0m\u001b[0m\n\u001b[1;32m--> 345\u001b[1;33m                 \u001b[1;32mreturn\u001b[0m \u001b[0mmethod\u001b[0m\u001b[1;33m(\u001b[0m\u001b[1;33m)\u001b[0m\u001b[1;33m\u001b[0m\u001b[1;33m\u001b[0m\u001b[0m\n\u001b[0m\u001b[0;32m    346\u001b[0m             \u001b[1;32mreturn\u001b[0m \u001b[1;32mNone\u001b[0m\u001b[1;33m\u001b[0m\u001b[1;33m\u001b[0m\u001b[0m\n\u001b[0;32m    347\u001b[0m         \u001b[1;32melse\u001b[0m\u001b[1;33m:\u001b[0m\u001b[1;33m\u001b[0m\u001b[1;33m\u001b[0m\u001b[0m\n",
      "\u001b[1;32md:\\program files\\python3\\lib\\site-packages\\pygal\\graph\\base.py\u001b[0m in \u001b[0;36m_repr_png_\u001b[1;34m(self)\u001b[0m\n\u001b[0;32m    232\u001b[0m     \u001b[1;32mdef\u001b[0m \u001b[0m_repr_png_\u001b[0m\u001b[1;33m(\u001b[0m\u001b[0mself\u001b[0m\u001b[1;33m)\u001b[0m\u001b[1;33m:\u001b[0m\u001b[1;33m\u001b[0m\u001b[1;33m\u001b[0m\u001b[0m\n\u001b[0;32m    233\u001b[0m         \u001b[1;34m\"\"\"Display png in IPython notebook\"\"\"\u001b[0m\u001b[1;33m\u001b[0m\u001b[1;33m\u001b[0m\u001b[0m\n\u001b[1;32m--> 234\u001b[1;33m         \u001b[1;32mreturn\u001b[0m \u001b[0mself\u001b[0m\u001b[1;33m.\u001b[0m\u001b[0mrender_to_png\u001b[0m\u001b[1;33m(\u001b[0m\u001b[1;33m)\u001b[0m\u001b[1;33m\u001b[0m\u001b[1;33m\u001b[0m\u001b[0m\n\u001b[0m",
      "\u001b[1;32md:\\program files\\python3\\lib\\site-packages\\pygal\\graph\\public.py\u001b[0m in \u001b[0;36mrender_to_png\u001b[1;34m(self, filename, dpi, **kwargs)\u001b[0m\n\u001b[0;32m    116\u001b[0m     \u001b[1;32mdef\u001b[0m \u001b[0mrender_to_png\u001b[0m\u001b[1;33m(\u001b[0m\u001b[0mself\u001b[0m\u001b[1;33m,\u001b[0m \u001b[0mfilename\u001b[0m\u001b[1;33m=\u001b[0m\u001b[1;32mNone\u001b[0m\u001b[1;33m,\u001b[0m \u001b[0mdpi\u001b[0m\u001b[1;33m=\u001b[0m\u001b[1;36m72\u001b[0m\u001b[1;33m,\u001b[0m \u001b[1;33m**\u001b[0m\u001b[0mkwargs\u001b[0m\u001b[1;33m)\u001b[0m\u001b[1;33m:\u001b[0m\u001b[1;33m\u001b[0m\u001b[1;33m\u001b[0m\u001b[0m\n\u001b[0;32m    117\u001b[0m         \u001b[1;34m\"\"\"Render the graph, convert it to png and write it to filename\"\"\"\u001b[0m\u001b[1;33m\u001b[0m\u001b[1;33m\u001b[0m\u001b[0m\n\u001b[1;32m--> 118\u001b[1;33m         \u001b[1;32mimport\u001b[0m \u001b[0mcairosvg\u001b[0m\u001b[1;33m\u001b[0m\u001b[1;33m\u001b[0m\u001b[0m\n\u001b[0m\u001b[0;32m    119\u001b[0m         return cairosvg.svg2png(\n\u001b[0;32m    120\u001b[0m             bytestring=self.render(**kwargs), write_to=filename, dpi=dpi)\n",
      "\u001b[1;31mModuleNotFoundError\u001b[0m: No module named 'cairosvg'"
     ]
    },
    {
     "data": {
      "image/svg+xml": [
       "<svg xmlns=\"http://www.w3.org/2000/svg\" xmlns:xlink=\"http://www.w3.org/1999/xlink\" id=\"chart-0e8dfc3e-959a-4a9a-8dc6-e55181e1a549\" class=\"pygal-chart\" viewBox=\"0 0 800 600\"><!--Generated with pygal 2.4.0 (lxml) ©Kozea 2012-2016 on 2019-09-06--><!--http://pygal.org--><!--http://github.com/Kozea/pygal--><defs><style type=\"text/css\">#chart-0e8dfc3e-959a-4a9a-8dc6-e55181e1a549{-webkit-user-select:none;-webkit-font-smoothing:antialiased;font-family:Consolas,\"Liberation Mono\",Menlo,Courier,monospace}#chart-0e8dfc3e-959a-4a9a-8dc6-e55181e1a549 .title{font-family:Consolas,\"Liberation Mono\",Menlo,Courier,monospace;font-size:16px}#chart-0e8dfc3e-959a-4a9a-8dc6-e55181e1a549 .legends .legend text{font-family:Consolas,\"Liberation Mono\",Menlo,Courier,monospace;font-size:14px}#chart-0e8dfc3e-959a-4a9a-8dc6-e55181e1a549 .axis text{font-family:Consolas,\"Liberation Mono\",Menlo,Courier,monospace;font-size:10px}#chart-0e8dfc3e-959a-4a9a-8dc6-e55181e1a549 .axis text.major{font-family:Consolas,\"Liberation Mono\",Menlo,Courier,monospace;font-size:10px}#chart-0e8dfc3e-959a-4a9a-8dc6-e55181e1a549 .text-overlay text.value{font-family:Consolas,\"Liberation Mono\",Menlo,Courier,monospace;font-size:16px}#chart-0e8dfc3e-959a-4a9a-8dc6-e55181e1a549 .text-overlay text.label{font-family:Consolas,\"Liberation Mono\",Menlo,Courier,monospace;font-size:10px}#chart-0e8dfc3e-959a-4a9a-8dc6-e55181e1a549 .tooltip{font-family:Consolas,\"Liberation Mono\",Menlo,Courier,monospace;font-size:14px}#chart-0e8dfc3e-959a-4a9a-8dc6-e55181e1a549 text.no_data{font-family:Consolas,\"Liberation Mono\",Menlo,Courier,monospace;font-size:64px}\n",
       "#chart-0e8dfc3e-959a-4a9a-8dc6-e55181e1a549{background-color:#f8f8f8}#chart-0e8dfc3e-959a-4a9a-8dc6-e55181e1a549 path,#chart-0e8dfc3e-959a-4a9a-8dc6-e55181e1a549 line,#chart-0e8dfc3e-959a-4a9a-8dc6-e55181e1a549 rect,#chart-0e8dfc3e-959a-4a9a-8dc6-e55181e1a549 circle{-webkit-transition:250ms ease-in;-moz-transition:250ms ease-in;transition:250ms ease-in}#chart-0e8dfc3e-959a-4a9a-8dc6-e55181e1a549 .graph &gt; .background{fill:#f8f8f8}#chart-0e8dfc3e-959a-4a9a-8dc6-e55181e1a549 .plot &gt; .background{fill:#ffffff}#chart-0e8dfc3e-959a-4a9a-8dc6-e55181e1a549 .graph{fill:#333}#chart-0e8dfc3e-959a-4a9a-8dc6-e55181e1a549 text.no_data{fill:#666}#chart-0e8dfc3e-959a-4a9a-8dc6-e55181e1a549 .title{fill:#666}#chart-0e8dfc3e-959a-4a9a-8dc6-e55181e1a549 .legends .legend text{fill:#333}#chart-0e8dfc3e-959a-4a9a-8dc6-e55181e1a549 .legends .legend:hover text{fill:#666}#chart-0e8dfc3e-959a-4a9a-8dc6-e55181e1a549 .axis .line{stroke:#666}#chart-0e8dfc3e-959a-4a9a-8dc6-e55181e1a549 .axis .guide.line{stroke:rgba(0,0,0,0.5)}#chart-0e8dfc3e-959a-4a9a-8dc6-e55181e1a549 .axis .major.line{stroke:#333}#chart-0e8dfc3e-959a-4a9a-8dc6-e55181e1a549 .axis text.major{fill:#666}#chart-0e8dfc3e-959a-4a9a-8dc6-e55181e1a549 .axis.y .guides:hover .guide.line,#chart-0e8dfc3e-959a-4a9a-8dc6-e55181e1a549 .line-graph .axis.x .guides:hover .guide.line,#chart-0e8dfc3e-959a-4a9a-8dc6-e55181e1a549 .stackedline-graph .axis.x .guides:hover .guide.line,#chart-0e8dfc3e-959a-4a9a-8dc6-e55181e1a549 .xy-graph .axis.x .guides:hover .guide.line{stroke:#666}#chart-0e8dfc3e-959a-4a9a-8dc6-e55181e1a549 .axis .guides:hover text{fill:#666}#chart-0e8dfc3e-959a-4a9a-8dc6-e55181e1a549 .reactive{fill-opacity:.5;stroke-opacity:.8}#chart-0e8dfc3e-959a-4a9a-8dc6-e55181e1a549 .ci{stroke:#333}#chart-0e8dfc3e-959a-4a9a-8dc6-e55181e1a549 .reactive.active,#chart-0e8dfc3e-959a-4a9a-8dc6-e55181e1a549 .active .reactive{fill-opacity:.9;stroke-opacity:.9;stroke-width:4}#chart-0e8dfc3e-959a-4a9a-8dc6-e55181e1a549 .ci .reactive.active{stroke-width:1.5}#chart-0e8dfc3e-959a-4a9a-8dc6-e55181e1a549 .series text{fill:#666}#chart-0e8dfc3e-959a-4a9a-8dc6-e55181e1a549 .tooltip rect{fill:#ffffff;stroke:#666;-webkit-transition:opacity 250ms ease-in;-moz-transition:opacity 250ms ease-in;transition:opacity 250ms ease-in}#chart-0e8dfc3e-959a-4a9a-8dc6-e55181e1a549 .tooltip .label{fill:#333}#chart-0e8dfc3e-959a-4a9a-8dc6-e55181e1a549 .tooltip .label{fill:#333}#chart-0e8dfc3e-959a-4a9a-8dc6-e55181e1a549 .tooltip .legend{font-size:.8em;fill:rgba(0,0,0,0.5)}#chart-0e8dfc3e-959a-4a9a-8dc6-e55181e1a549 .tooltip .x_label{font-size:.6em;fill:#666}#chart-0e8dfc3e-959a-4a9a-8dc6-e55181e1a549 .tooltip .xlink{font-size:.5em;text-decoration:underline}#chart-0e8dfc3e-959a-4a9a-8dc6-e55181e1a549 .tooltip .value{font-size:1.5em}#chart-0e8dfc3e-959a-4a9a-8dc6-e55181e1a549 .bound{font-size:.5em}#chart-0e8dfc3e-959a-4a9a-8dc6-e55181e1a549 .max-value{font-size:.75em;fill:rgba(0,0,0,0.5)}#chart-0e8dfc3e-959a-4a9a-8dc6-e55181e1a549 .map-element{fill:#ffffff;stroke:rgba(0,0,0,0.5) !important}#chart-0e8dfc3e-959a-4a9a-8dc6-e55181e1a549 .map-element .reactive{fill-opacity:inherit;stroke-opacity:inherit}#chart-0e8dfc3e-959a-4a9a-8dc6-e55181e1a549 .color-0,#chart-0e8dfc3e-959a-4a9a-8dc6-e55181e1a549 .color-0 a:visited{stroke:#333366;fill:#333366}#chart-0e8dfc3e-959a-4a9a-8dc6-e55181e1a549 .text-overlay .color-0 text{fill:black}\n",
       "#chart-0e8dfc3e-959a-4a9a-8dc6-e55181e1a549 text.no_data{text-anchor:middle}#chart-0e8dfc3e-959a-4a9a-8dc6-e55181e1a549 .guide.line{fill:none}#chart-0e8dfc3e-959a-4a9a-8dc6-e55181e1a549 .centered{text-anchor:middle}#chart-0e8dfc3e-959a-4a9a-8dc6-e55181e1a549 .title{text-anchor:middle}#chart-0e8dfc3e-959a-4a9a-8dc6-e55181e1a549 .legends .legend text{fill-opacity:1}#chart-0e8dfc3e-959a-4a9a-8dc6-e55181e1a549 .axis.x text{text-anchor:middle}#chart-0e8dfc3e-959a-4a9a-8dc6-e55181e1a549 .axis.x:not(.web) text[transform]{text-anchor:start}#chart-0e8dfc3e-959a-4a9a-8dc6-e55181e1a549 .axis.x:not(.web) text[transform].backwards{text-anchor:end}#chart-0e8dfc3e-959a-4a9a-8dc6-e55181e1a549 .axis.y text{text-anchor:end}#chart-0e8dfc3e-959a-4a9a-8dc6-e55181e1a549 .axis.y text[transform].backwards{text-anchor:start}#chart-0e8dfc3e-959a-4a9a-8dc6-e55181e1a549 .axis.y2 text{text-anchor:start}#chart-0e8dfc3e-959a-4a9a-8dc6-e55181e1a549 .axis.y2 text[transform].backwards{text-anchor:end}#chart-0e8dfc3e-959a-4a9a-8dc6-e55181e1a549 .axis .guide.line{stroke-dasharray:4,4}#chart-0e8dfc3e-959a-4a9a-8dc6-e55181e1a549 .axis .major.guide.line{stroke-dasharray:6,6}#chart-0e8dfc3e-959a-4a9a-8dc6-e55181e1a549 .horizontal .axis.y .guide.line,#chart-0e8dfc3e-959a-4a9a-8dc6-e55181e1a549 .horizontal .axis.y2 .guide.line,#chart-0e8dfc3e-959a-4a9a-8dc6-e55181e1a549 .vertical .axis.x .guide.line{opacity:0}#chart-0e8dfc3e-959a-4a9a-8dc6-e55181e1a549 .horizontal .axis.always_show .guide.line,#chart-0e8dfc3e-959a-4a9a-8dc6-e55181e1a549 .vertical .axis.always_show .guide.line{opacity:1 !important}#chart-0e8dfc3e-959a-4a9a-8dc6-e55181e1a549 .axis.y .guides:hover .guide.line,#chart-0e8dfc3e-959a-4a9a-8dc6-e55181e1a549 .axis.y2 .guides:hover .guide.line,#chart-0e8dfc3e-959a-4a9a-8dc6-e55181e1a549 .axis.x .guides:hover .guide.line{opacity:1}#chart-0e8dfc3e-959a-4a9a-8dc6-e55181e1a549 .axis .guides:hover text{opacity:1}#chart-0e8dfc3e-959a-4a9a-8dc6-e55181e1a549 .nofill{fill:none}#chart-0e8dfc3e-959a-4a9a-8dc6-e55181e1a549 .subtle-fill{fill-opacity:.2}#chart-0e8dfc3e-959a-4a9a-8dc6-e55181e1a549 .dot{stroke-width:1px;fill-opacity:1}#chart-0e8dfc3e-959a-4a9a-8dc6-e55181e1a549 .dot.active{stroke-width:5px}#chart-0e8dfc3e-959a-4a9a-8dc6-e55181e1a549 .dot.negative{fill:transparent}#chart-0e8dfc3e-959a-4a9a-8dc6-e55181e1a549 text,#chart-0e8dfc3e-959a-4a9a-8dc6-e55181e1a549 tspan{stroke:none !important}#chart-0e8dfc3e-959a-4a9a-8dc6-e55181e1a549 .series text.active{opacity:1}#chart-0e8dfc3e-959a-4a9a-8dc6-e55181e1a549 .tooltip rect{fill-opacity:.95;stroke-width:.5}#chart-0e8dfc3e-959a-4a9a-8dc6-e55181e1a549 .tooltip text{fill-opacity:1}#chart-0e8dfc3e-959a-4a9a-8dc6-e55181e1a549 .showable{visibility:hidden}#chart-0e8dfc3e-959a-4a9a-8dc6-e55181e1a549 .showable.shown{visibility:visible}#chart-0e8dfc3e-959a-4a9a-8dc6-e55181e1a549 .gauge-background{fill:rgba(229,229,229,1);stroke:none}#chart-0e8dfc3e-959a-4a9a-8dc6-e55181e1a549 .bg-lines{stroke:#f8f8f8;stroke-width:2px}</style><script type=\"text/javascript\">window.pygal = window.pygal || {};window.pygal.config = window.pygal.config || {};window.pygal.config['0e8dfc3e-959a-4a9a-8dc6-e55181e1a549'] = {\"allow_interruptions\": false, \"box_mode\": \"extremes\", \"classes\": [\"pygal-chart\"], \"css\": [\"file://style.css\", \"file://graph.css\"], \"defs\": [], \"disable_xml_declaration\": true, \"dots_size\": 2.5, \"dynamic_print_values\": false, \"explicit_size\": false, \"fill\": false, \"force_uri_protocol\": \"https\", \"formatter\": null, \"half_pie\": false, \"height\": 600, \"include_x_axis\": false, \"inner_radius\": 0, \"interpolate\": null, \"interpolation_parameters\": {}, \"interpolation_precision\": 250, \"inverse_y_axis\": false, \"js\": [\"//kozea.github.io/pygal.js/2.0.x/pygal-tooltips.min.js\"], \"legend_at_bottom\": false, \"legend_at_bottom_columns\": null, \"legend_box_size\": 12, \"logarithmic\": false, \"margin\": 20, \"margin_bottom\": null, \"margin_left\": null, \"margin_right\": null, \"margin_top\": null, \"max_scale\": 16, \"min_scale\": 4, \"missing_value_fill_truncation\": \"x\", \"no_data_text\": \"No data\", \"no_prefix\": false, \"order_min\": null, \"pretty_print\": false, \"print_labels\": false, \"print_values\": false, \"print_values_position\": \"center\", \"print_zeroes\": true, \"range\": null, \"rounded_bars\": null, \"secondary_range\": null, \"show_dots\": true, \"show_legend\": false, \"show_minor_x_labels\": true, \"show_minor_y_labels\": true, \"show_only_major_dots\": false, \"show_x_guides\": false, \"show_x_labels\": true, \"show_y_guides\": true, \"show_y_labels\": true, \"spacing\": 10, \"stack_from_top\": false, \"strict\": false, \"stroke\": true, \"stroke_style\": null, \"style\": {\"background\": \"#f8f8f8\", \"ci_colors\": [], \"colors\": [\"#333366\", \"#3c3c79\", \"#46468c\", \"#4f4f9f\", \"#5d5dae\", \"#6f6fb7\", \"#8282c1\", \"#9595ca\", \"#a8a8d4\", \"#bbbbdd\"], \"font_family\": \"Consolas, \\\"Liberation Mono\\\", Menlo, Courier, monospace\", \"foreground\": \"#333\", \"foreground_strong\": \"#666\", \"foreground_subtle\": \"rgba(0, 0 , 0, 0.5)\", \"guide_stroke_dasharray\": \"4,4\", \"label_font_family\": \"Consolas, \\\"Liberation Mono\\\", Menlo, Courier, monospace\", \"label_font_size\": 10, \"legend_font_family\": \"Consolas, \\\"Liberation Mono\\\", Menlo, Courier, monospace\", \"legend_font_size\": 14, \"major_guide_stroke_dasharray\": \"6,6\", \"major_label_font_family\": \"Consolas, \\\"Liberation Mono\\\", Menlo, Courier, monospace\", \"major_label_font_size\": 10, \"no_data_font_family\": \"Consolas, \\\"Liberation Mono\\\", Menlo, Courier, monospace\", \"no_data_font_size\": 64, \"opacity\": \".5\", \"opacity_hover\": \".9\", \"plot_background\": \"#ffffff\", \"stroke_opacity\": \".8\", \"stroke_opacity_hover\": \".9\", \"title_font_family\": \"Consolas, \\\"Liberation Mono\\\", Menlo, Courier, monospace\", \"title_font_size\": 16, \"tooltip_font_family\": \"Consolas, \\\"Liberation Mono\\\", Menlo, Courier, monospace\", \"tooltip_font_size\": 14, \"transition\": \"250ms ease-in\", \"value_background\": \"rgba(229, 229, 229, 1)\", \"value_colors\": [], \"value_font_family\": \"Consolas, \\\"Liberation Mono\\\", Menlo, Courier, monospace\", \"value_font_size\": 16, \"value_label_font_family\": \"Consolas, \\\"Liberation Mono\\\", Menlo, Courier, monospace\", \"value_label_font_size\": 10}, \"title\": null, \"tooltip_border_radius\": 0, \"tooltip_fancy_mode\": true, \"truncate_label\": null, \"truncate_legend\": null, \"width\": 800, \"x_label_rotation\": 45, \"x_labels\": [\"tensorflow\", \"awesome-machine-learning\", \"scikit-learn\", \"Algorithm_Interview_Notes-Chinese\", \"machine-learning-for-software-engineers\", \"practicalAI\", \"handson-ml\", \"ML-From-Scratch\", \"homemade-machine-learning\", \"Qix\", \"cheatsheets-ai\", \"predictionio\", \"python-machine-learning-book\", \"dive-into-machine-learning\", \"LightGBM\", \"Machine-Learning-Tutorials\", \"stanford-cs-229-machine-learning\", \"turicreate\", \"ChatterBot\", \"state-of-the-art-result-for-machine-learning-problems\", \"DeepFaceLab\", \"dlib\", \"MLAlgorithms\", \"kubeflow\", \"php-ml\", \"pattern\", \"imgaug\", \"Learn_Machine_Learning_in_3_Months\", \"numpy-ml\", \"golearn\"], \"x_labels_major\": null, \"x_labels_major_count\": null, \"x_labels_major_every\": null, \"x_title\": null, \"xrange\": null, \"y_label_rotation\": 0, \"y_labels\": null, \"y_labels_major\": null, \"y_labels_major_count\": null, \"y_labels_major_every\": null, \"y_title\": null, \"zero\": 0, \"legends\": [\"Github\"]}</script><script type=\"text/javascript\" xlink:href=\"https://kozea.github.io/pygal.js/2.0.x/pygal-tooltips.min.js\"/></defs><title>Pygal</title><g class=\"graph bar-graph vertical\"><rect x=\"0\" y=\"0\" width=\"800\" height=\"600\" class=\"background\"/><g transform=\"translate(66, 20)\" class=\"plot\"><rect x=\"0\" y=\"0\" width=\"627.9339828220179\" height=\"443.93398282201787\" class=\"background\"/><g class=\"axis y always_show\"><g class=\"guides\"><path d=\"M0.000000 435.396791 h627.933983\" class=\"axis major line\"/><text x=\"-5\" y=\"438.8967908446714\" class=\"major\">0</text><title>0</title></g><g class=\"guides\"><path d=\"M0.000000 403.447179 h627.933983\" class=\"guide line\"/><text x=\"-5\" y=\"406.9471786423926\" class=\"\">10000</text><title>10000</title></g><g class=\"guides\"><path d=\"M0.000000 371.497566 h627.933983\" class=\"guide line\"/><text x=\"-5\" y=\"374.99756644011387\" class=\"\">20000</text><title>20000</title></g><g class=\"guides\"><path d=\"M0.000000 339.547954 h627.933983\" class=\"guide line\"/><text x=\"-5\" y=\"343.04795423783514\" class=\"\">30000</text><title>30000</title></g><g class=\"guides\"><path d=\"M0.000000 307.598342 h627.933983\" class=\"guide line\"/><text x=\"-5\" y=\"311.09834203555636\" class=\"\">40000</text><title>40000</title></g><g class=\"guides\"><path d=\"M0.000000 275.648730 h627.933983\" class=\"major guide line\"/><text x=\"-5\" y=\"279.1487298332776\" class=\"major\">50000</text><title>50000</title></g><g class=\"guides\"><path d=\"M0.000000 243.699118 h627.933983\" class=\"guide line\"/><text x=\"-5\" y=\"247.1991176309989\" class=\"\">60000</text><title>60000</title></g><g class=\"guides\"><path d=\"M0.000000 211.749505 h627.933983\" class=\"guide line\"/><text x=\"-5\" y=\"215.24950542872017\" class=\"\">70000</text><title>70000</title></g><g class=\"guides\"><path d=\"M0.000000 179.799893 h627.933983\" class=\"guide line\"/><text x=\"-5\" y=\"183.29989322644138\" class=\"\">80000</text><title>80000</title></g><g class=\"guides\"><path d=\"M0.000000 147.850281 h627.933983\" class=\"guide line\"/><text x=\"-5\" y=\"151.35028102416265\" class=\"\">90000</text><title>90000</title></g><g class=\"guides\"><path d=\"M0.000000 115.900669 h627.933983\" class=\"major guide line\"/><text x=\"-5\" y=\"119.40066882188393\" class=\"major\">100000</text><title>100000</title></g><g class=\"guides\"><path d=\"M0.000000 83.951057 h627.933983\" class=\"guide line\"/><text x=\"-5\" y=\"87.45105661960514\" class=\"\">110000</text><title>110000</title></g><g class=\"guides\"><path d=\"M0.000000 52.001444 h627.933983\" class=\"guide line\"/><text x=\"-5\" y=\"55.50144441732641\" class=\"\">120000</text><title>120000</title></g><g class=\"guides\"><path d=\"M0.000000 20.051832 h627.933983\" class=\"guide line\"/><text x=\"-5\" y=\"23.55183221504774\" class=\"\">130000</text><title>130000</title></g></g><g class=\"axis x\"><path d=\"M0.000000 0.000000 v443.933983\" class=\"line\"/><g class=\"guides\"><path d=\"M22.138698 0.000000 v443.933983\" class=\"guide line\"/><text x=\"22.13869811231473\" y=\"458.93398282201787\" class=\"\" transform=\"rotate(45 22.138698 458.933983)\">tensorflow</text></g><g class=\"guides\"><path d=\"M42.264787 0.000000 v443.933983\" class=\"guide line\"/><text x=\"42.26478730532813\" y=\"458.93398282201787\" class=\"\" transform=\"rotate(45 42.264787 458.933983)\">awesome-machine-learning</text></g><g class=\"guides\"><path d=\"M62.390876 0.000000 v443.933983\" class=\"guide line\"/><text x=\"62.39087649834153\" y=\"458.93398282201787\" class=\"\" transform=\"rotate(45 62.390876 458.933983)\">scikit-learn</text></g><g class=\"guides\"><path d=\"M82.516966 0.000000 v443.933983\" class=\"guide line\"/><text x=\"82.51696569135491\" y=\"458.93398282201787\" class=\"\" transform=\"rotate(45 82.516966 458.933983)\">Algorithm_Interview_Note…</text><title>Algorithm_Interview_Notes-Chinese</title></g><g class=\"guides\"><path d=\"M102.643055 0.000000 v443.933983\" class=\"guide line\"/><text x=\"102.6430548843683\" y=\"458.93398282201787\" class=\"\" transform=\"rotate(45 102.643055 458.933983)\">machine-learning-for-sof…</text><title>machine-learning-for-software-engineers</title></g><g class=\"guides\"><path d=\"M122.769144 0.000000 v443.933983\" class=\"guide line\"/><text x=\"122.7691440773817\" y=\"458.93398282201787\" class=\"\" transform=\"rotate(45 122.769144 458.933983)\">practicalAI</text></g><g class=\"guides\"><path d=\"M142.895233 0.000000 v443.933983\" class=\"guide line\"/><text x=\"142.8952332703951\" y=\"458.93398282201787\" class=\"\" transform=\"rotate(45 142.895233 458.933983)\">handson-ml</text></g><g class=\"guides\"><path d=\"M163.021322 0.000000 v443.933983\" class=\"guide line\"/><text x=\"163.02132246340852\" y=\"458.93398282201787\" class=\"\" transform=\"rotate(45 163.021322 458.933983)\">ML-From-Scratch</text></g><g class=\"guides\"><path d=\"M183.147412 0.000000 v443.933983\" class=\"guide line\"/><text x=\"183.1474116564219\" y=\"458.93398282201787\" class=\"\" transform=\"rotate(45 183.147412 458.933983)\">homemade-machine-learning</text></g><g class=\"guides\"><path d=\"M203.273501 0.000000 v443.933983\" class=\"guide line\"/><text x=\"203.27350084943527\" y=\"458.93398282201787\" class=\"\" transform=\"rotate(45 203.273501 458.933983)\">Qix</text></g><g class=\"guides\"><path d=\"M223.399590 0.000000 v443.933983\" class=\"guide line\"/><text x=\"223.39959004244866\" y=\"458.93398282201787\" class=\"\" transform=\"rotate(45 223.399590 458.933983)\">cheatsheets-ai</text></g><g class=\"guides\"><path d=\"M243.525679 0.000000 v443.933983\" class=\"guide line\"/><text x=\"243.5256792354621\" y=\"458.93398282201787\" class=\"\" transform=\"rotate(45 243.525679 458.933983)\">predictionio</text></g><g class=\"guides\"><path d=\"M263.651768 0.000000 v443.933983\" class=\"guide line\"/><text x=\"263.6517684284755\" y=\"458.93398282201787\" class=\"\" transform=\"rotate(45 263.651768 458.933983)\">python-machine-learning-…</text><title>python-machine-learning-book</title></g><g class=\"guides\"><path d=\"M283.777858 0.000000 v443.933983\" class=\"guide line\"/><text x=\"283.7778576214889\" y=\"458.93398282201787\" class=\"\" transform=\"rotate(45 283.777858 458.933983)\">dive-into-machine-learni…</text><title>dive-into-machine-learning</title></g><g class=\"guides\"><path d=\"M303.903947 0.000000 v443.933983\" class=\"guide line\"/><text x=\"303.90394681450226\" y=\"458.93398282201787\" class=\"\" transform=\"rotate(45 303.903947 458.933983)\">LightGBM</text></g><g class=\"guides\"><path d=\"M324.030036 0.000000 v443.933983\" class=\"guide line\"/><text x=\"324.0300360075157\" y=\"458.93398282201787\" class=\"\" transform=\"rotate(45 324.030036 458.933983)\">Machine-Learning-Tutoria…</text><title>Machine-Learning-Tutorials</title></g><g class=\"guides\"><path d=\"M344.156125 0.000000 v443.933983\" class=\"guide line\"/><text x=\"344.15612520052906\" y=\"458.93398282201787\" class=\"\" transform=\"rotate(45 344.156125 458.933983)\">stanford-cs-229-machine-…</text><title>stanford-cs-229-machine-learning</title></g><g class=\"guides\"><path d=\"M364.282214 0.000000 v443.933983\" class=\"guide line\"/><text x=\"364.28221439354246\" y=\"458.93398282201787\" class=\"\" transform=\"rotate(45 364.282214 458.933983)\">turicreate</text></g><g class=\"guides\"><path d=\"M384.408304 0.000000 v443.933983\" class=\"guide line\"/><text x=\"384.40830358655586\" y=\"458.93398282201787\" class=\"\" transform=\"rotate(45 384.408304 458.933983)\">ChatterBot</text></g><g class=\"guides\"><path d=\"M404.534393 0.000000 v443.933983\" class=\"guide line\"/><text x=\"404.53439277956926\" y=\"458.93398282201787\" class=\"\" transform=\"rotate(45 404.534393 458.933983)\">state-of-the-art-result-…</text><title>state-of-the-art-result-for-machine-learning-problems</title></g><g class=\"guides\"><path d=\"M424.660482 0.000000 v443.933983\" class=\"guide line\"/><text x=\"424.66048197258266\" y=\"458.93398282201787\" class=\"\" transform=\"rotate(45 424.660482 458.933983)\">DeepFaceLab</text></g><g class=\"guides\"><path d=\"M444.786571 0.000000 v443.933983\" class=\"guide line\"/><text x=\"444.786571165596\" y=\"458.93398282201787\" class=\"\" transform=\"rotate(45 444.786571 458.933983)\">dlib</text></g><g class=\"guides\"><path d=\"M464.912660 0.000000 v443.933983\" class=\"guide line\"/><text x=\"464.9126603586094\" y=\"458.93398282201787\" class=\"\" transform=\"rotate(45 464.912660 458.933983)\">MLAlgorithms</text></g><g class=\"guides\"><path d=\"M485.038750 0.000000 v443.933983\" class=\"guide line\"/><text x=\"485.0387495516228\" y=\"458.93398282201787\" class=\"\" transform=\"rotate(45 485.038750 458.933983)\">kubeflow</text></g><g class=\"guides\"><path d=\"M505.164839 0.000000 v443.933983\" class=\"guide line\"/><text x=\"505.1648387446362\" y=\"458.93398282201787\" class=\"\" transform=\"rotate(45 505.164839 458.933983)\">php-ml</text></g><g class=\"guides\"><path d=\"M525.290928 0.000000 v443.933983\" class=\"guide line\"/><text x=\"525.2909279376496\" y=\"458.93398282201787\" class=\"\" transform=\"rotate(45 525.290928 458.933983)\">pattern</text></g><g class=\"guides\"><path d=\"M545.417017 0.000000 v443.933983\" class=\"guide line\"/><text x=\"545.417017130663\" y=\"458.93398282201787\" class=\"\" transform=\"rotate(45 545.417017 458.933983)\">imgaug</text></g><g class=\"guides\"><path d=\"M565.543106 0.000000 v443.933983\" class=\"guide line\"/><text x=\"565.5431063236764\" y=\"458.93398282201787\" class=\"\" transform=\"rotate(45 565.543106 458.933983)\">Learn_Machine_Learning_i…</text><title>Learn_Machine_Learning_in_3_Months</title></g><g class=\"guides\"><path d=\"M585.669196 0.000000 v443.933983\" class=\"guide line\"/><text x=\"585.6691955166898\" y=\"458.93398282201787\" class=\"\" transform=\"rotate(45 585.669196 458.933983)\">numpy-ml</text></g><g class=\"guides\"><path d=\"M605.795285 0.000000 v443.933983\" class=\"guide line\"/><text x=\"605.7952847097031\" y=\"458.93398282201787\" class=\"\" transform=\"rotate(45 605.795285 458.933983)\">golearn</text></g></g><g class=\"series serie-0 color-0\"><g class=\"bars\"><g class=\"bar\"><rect x=\"14.345876376779948\" y=\"8.537191977346481\" rx=\"0\" ry=\"0\" width=\"15.585643471069574\" height=\"426.8595988673249\" class=\"rect reactive tooltip-trigger\"/><desc class=\"value\">133604</desc><desc class=\"x centered\">22.138698112314735</desc><desc class=\"y centered\">221.96699141100893</desc><desc class=\"x_label\">tensorflow</desc></g><g class=\"bar\"><rect x=\"34.47196556979334\" y=\"302.43847966488835\" rx=\"0\" ry=\"0\" width=\"15.585643471069574\" height=\"132.95831117978304\" class=\"rect reactive tooltip-trigger\"/><desc class=\"value\">41615</desc><desc class=\"x centered\">42.26478730532813</desc><desc class=\"y centered\">368.91763525477984</desc><desc class=\"x_label\">awesome-machine-learning</desc></g><g class=\"bar\"><rect x=\"54.59805476280674\" y=\"317.4931369346021\" rx=\"0\" ry=\"0\" width=\"15.585643471069574\" height=\"117.9036539100693\" class=\"rect reactive tooltip-trigger\"/><desc class=\"value\">36903</desc><desc class=\"x centered\">62.39087649834153</desc><desc class=\"y centered\">376.4449638896367</desc><desc class=\"x_label\">scikit-learn</desc></g><g class=\"bar\"><rect x=\"74.72414395582013\" y=\"350.9827204450307\" rx=\"0\" ry=\"0\" width=\"15.585643471069574\" height=\"84.4140703996407\" class=\"rect reactive tooltip-trigger\"/><desc class=\"value\">26421</desc><desc class=\"x centered\">82.51696569135491</desc><desc class=\"y centered\">393.18975564485106</desc><desc class=\"x_label\">Algorithm_Interview_Notes-Chinese</desc></g><g class=\"bar\"><rect x=\"94.8502331488335\" y=\"363.647546722014\" rx=\"0\" ry=\"0\" width=\"15.585643471069574\" height=\"71.74924412265739\" class=\"rect reactive tooltip-trigger\"/><desc class=\"value\">22457</desc><desc class=\"x centered\">102.64305488436828</desc><desc class=\"y centered\">399.5221687833427</desc><desc class=\"x_label\">machine-learning-for-software-engineers</desc></g><g class=\"bar\"><rect x=\"114.9763223418469\" y=\"370.48476373330163\" rx=\"0\" ry=\"0\" width=\"15.585643471069574\" height=\"64.91202711136975\" class=\"rect reactive tooltip-trigger\"/><desc class=\"value\">20317</desc><desc class=\"x centered\">122.76914407738168</desc><desc class=\"y centered\">402.9407772889865</desc><desc class=\"x_label\">practicalAI</desc></g><g class=\"bar\"><rect x=\"135.1024115348603\" y=\"382.31570513180543\" rx=\"0\" ry=\"0\" width=\"15.585643471069574\" height=\"53.081085712865956\" class=\"rect reactive tooltip-trigger\"/><desc class=\"value\">16614</desc><desc class=\"x centered\">142.89523327039507</desc><desc class=\"y centered\">408.8562479882384</desc><desc class=\"x_label\">handson-ml</desc></g><g class=\"bar\"><rect x=\"155.22850072787372\" y=\"393.750471339001\" rx=\"0\" ry=\"0\" width=\"15.585643471069574\" height=\"41.64631950567036\" class=\"rect reactive tooltip-trigger\"/><desc class=\"value\">13035</desc><desc class=\"x centered\">163.02132246340852</desc><desc class=\"y centered\">414.5736310918362</desc><desc class=\"x_label\">ML-From-Scratch</desc></g><g class=\"bar\"><rect x=\"175.3545899208871\" y=\"394.18818102617223\" rx=\"0\" ry=\"0\" width=\"15.585643471069574\" height=\"41.208609818499156\" class=\"rect reactive tooltip-trigger\"/><desc class=\"value\">12898</desc><desc class=\"x centered\">183.14741165642187</desc><desc class=\"y centered\">414.79248593542184</desc><desc class=\"x_label\">homemade-machine-learning</desc></g><g class=\"bar\"><rect x=\"195.4806791139005\" y=\"394.37029381572523\" rx=\"0\" ry=\"0\" width=\"15.585643471069574\" height=\"41.02649702894615\" class=\"rect reactive tooltip-trigger\"/><desc class=\"value\">12841</desc><desc class=\"x centered\">203.27350084943527</desc><desc class=\"y centered\">414.88354233019834</desc><desc class=\"x_label\">Qix</desc></g><g class=\"bar\"><rect x=\"215.60676830691386\" y=\"394.88468257218193\" rx=\"0\" ry=\"0\" width=\"15.585643471069574\" height=\"40.512108272489456\" class=\"rect reactive tooltip-trigger\"/><desc class=\"value\">12680</desc><desc class=\"x centered\">223.39959004244866</desc><desc class=\"y centered\">415.14073670842663</desc><desc class=\"x_label\">cheatsheets-ai</desc></g><g class=\"bar\"><rect x=\"235.73285749992726\" y=\"396.862363567503\" rx=\"0\" ry=\"0\" width=\"15.585643471069574\" height=\"38.53442727716839\" class=\"rect reactive tooltip-trigger\"/><desc class=\"value\">12061</desc><desc class=\"x centered\">243.52567923546206</desc><desc class=\"y centered\">416.1295772060872</desc><desc class=\"x_label\">predictionio</desc></g><g class=\"bar\"><rect x=\"255.85894669294072\" y=\"402.9839092654596\" rx=\"0\" ry=\"0\" width=\"15.585643471069574\" height=\"32.412881579211785\" class=\"rect reactive tooltip-trigger\"/><desc class=\"value\">10145</desc><desc class=\"x centered\">263.6517684284755</desc><desc class=\"y centered\">419.1903500550655</desc><desc class=\"x_label\">python-machine-learning-book</desc></g><g class=\"bar\"><rect x=\"275.9850358859541\" y=\"404.80503716098946\" rx=\"0\" ry=\"0\" width=\"15.585643471069574\" height=\"30.59175368368193\" class=\"rect reactive tooltip-trigger\"/><desc class=\"value\">9575</desc><desc class=\"x centered\">283.7778576214889</desc><desc class=\"y centered\">420.10091400283045</desc><desc class=\"x_label\">dive-into-machine-learning</desc></g><g class=\"bar\"><rect x=\"296.11112507896746\" y=\"405.16926274009546\" rx=\"0\" ry=\"0\" width=\"15.585643471069574\" height=\"30.227528104575924\" class=\"rect reactive tooltip-trigger\"/><desc class=\"value\">9461</desc><desc class=\"x centered\">303.90394681450226</desc><desc class=\"y centered\">420.28302679238345</desc><desc class=\"x_label\">LightGBM</desc></g><g class=\"bar\"><rect x=\"316.23721427198086\" y=\"405.2587216542618\" rx=\"0\" ry=\"0\" width=\"15.585643471069574\" height=\"30.138069190409567\" class=\"rect reactive tooltip-trigger\"/><desc class=\"value\">9433</desc><desc class=\"x centered\">324.03003600751566</desc><desc class=\"y centered\">420.3277562494666</desc><desc class=\"x_label\">Machine-Learning-Tutorials</desc></g><g class=\"bar\"><rect x=\"336.36330346499426\" y=\"406.0830216490806\" rx=\"0\" ry=\"0\" width=\"15.585643471069574\" height=\"29.313769195590794\" class=\"rect reactive tooltip-trigger\"/><desc class=\"value\">9175</desc><desc class=\"x centered\">344.15612520052906</desc><desc class=\"y centered\">420.739906246876</desc><desc class=\"x_label\">stanford-cs-229-machine-learning</desc></g><g class=\"bar\"><rect x=\"356.4893926580076\" y=\"406.80508288485214\" rx=\"0\" ry=\"0\" width=\"15.585643471069574\" height=\"28.591707959819246\" class=\"rect reactive tooltip-trigger\"/><desc class=\"value\">8949</desc><desc class=\"x centered\">364.2822143935424</desc><desc class=\"y centered\">421.10093686476176</desc><desc class=\"x_label\">turicreate</desc></g><g class=\"bar\"><rect x=\"376.615481851021\" y=\"407.0287301702681\" rx=\"0\" ry=\"0\" width=\"15.585643471069574\" height=\"28.368060674403296\" class=\"rect reactive tooltip-trigger\"/><desc class=\"value\">8879</desc><desc class=\"x centered\">384.4083035865558</desc><desc class=\"y centered\">421.21276050746974</desc><desc class=\"x_label\">ChatterBot</desc></g><g class=\"bar\"><rect x=\"396.7415710440344\" y=\"407.47282977987976\" rx=\"0\" ry=\"0\" width=\"15.585643471069574\" height=\"27.923961064791627\" class=\"rect reactive tooltip-trigger\"/><desc class=\"value\">8740</desc><desc class=\"x centered\">404.5343927795692</desc><desc class=\"y centered\">421.43481031227554</desc><desc class=\"x_label\">state-of-the-art-result-for-machine-learning-problems</desc></g><g class=\"bar\"><rect x=\"416.8676602370478\" y=\"407.85303016508686\" rx=\"0\" ry=\"0\" width=\"15.585643471069574\" height=\"27.543760679584523\" class=\"rect reactive tooltip-trigger\"/><desc class=\"value\">8621</desc><desc class=\"x centered\">424.6604819725826</desc><desc class=\"y centered\">421.62491050487915</desc><desc class=\"x_label\">DeepFaceLab</desc></g><g class=\"bar\"><rect x=\"436.9937494300612\" y=\"410.30676038222185\" rx=\"0\" ry=\"0\" width=\"15.585643471069574\" height=\"25.090030462449533\" class=\"rect reactive tooltip-trigger\"/><desc class=\"value\">7853</desc><desc class=\"x centered\">444.786571165596</desc><desc class=\"y centered\">422.85177561344665</desc><desc class=\"x_label\">dlib</desc></g><g class=\"bar\"><rect x=\"457.1198386230746\" y=\"410.96492239358884\" rx=\"0\" ry=\"0\" width=\"15.585643471069574\" height=\"24.43186845108255\" class=\"rect reactive tooltip-trigger\"/><desc class=\"value\">7647</desc><desc class=\"x centered\">464.9126603586094</desc><desc class=\"y centered\">423.1808566191301</desc><desc class=\"x_label\">MLAlgorithms</desc></g><g class=\"bar\"><rect x=\"477.24592781608806\" y=\"411.76046773742553\" rx=\"0\" ry=\"0\" width=\"15.585643471069574\" height=\"23.636323107245857\" class=\"rect reactive tooltip-trigger\"/><desc class=\"value\">7398</desc><desc class=\"x centered\">485.03874955162286</desc><desc class=\"y centered\">423.57862929104846</desc><desc class=\"x_label\">kubeflow</desc></g><g class=\"bar\"><rect x=\"497.37201700910146\" y=\"411.9393855657583\" rx=\"0\" ry=\"0\" width=\"15.585643471069574\" height=\"23.457405278913086\" class=\"rect reactive tooltip-trigger\"/><desc class=\"value\">7342</desc><desc class=\"x centered\">505.16483874463626</desc><desc class=\"y centered\">423.6680882052149</desc><desc class=\"x_label\">php-ml</desc></g><g class=\"bar\"><rect x=\"517.4981062021149\" y=\"412.65186191786916\" rx=\"0\" ry=\"0\" width=\"15.585643471069574\" height=\"22.74492892680223\" class=\"rect reactive tooltip-trigger\"/><desc class=\"value\">7119</desc><desc class=\"x centered\">525.2909279376496</desc><desc class=\"y centered\">424.02432638127027</desc><desc class=\"x_label\">pattern</desc></g><g class=\"bar\"><rect x=\"537.6241953951283\" y=\"413.37392315364065\" rx=\"0\" ry=\"0\" width=\"15.585643471069574\" height=\"22.02286769103074\" class=\"rect reactive tooltip-trigger\"/><desc class=\"value\">6893</desc><desc class=\"x centered\">545.417017130663</desc><desc class=\"y centered\">424.385356999156</desc><desc class=\"x_label\">imgaug</desc></g><g class=\"bar\"><rect x=\"557.7502845881417\" y=\"413.6327150124791\" rx=\"0\" ry=\"0\" width=\"15.585643471069574\" height=\"21.764075832192304\" class=\"rect reactive tooltip-trigger\"/><desc class=\"value\">6812</desc><desc class=\"x centered\">565.5431063236764</desc><desc class=\"y centered\">424.51475292857526</desc><desc class=\"x_label\">Learn_Machine_Learning_in_3_Months</desc></g><g class=\"bar\"><rect x=\"577.876373781155\" y=\"413.83719253057365\" rx=\"0\" ry=\"0\" width=\"15.585643471069574\" height=\"21.55959831409774\" class=\"rect reactive tooltip-trigger\"/><desc class=\"value\">6748</desc><desc class=\"x centered\">585.6691955166898</desc><desc class=\"y centered\">424.61699168762254</desc><desc class=\"x_label\">numpy-ml</desc></g><g class=\"bar\"><rect x=\"598.0024629741685\" y=\"413.97138090182324\" rx=\"0\" ry=\"0\" width=\"15.585643471069574\" height=\"21.425409942848148\" class=\"rect reactive tooltip-trigger\"/><desc class=\"value\">6706</desc><desc class=\"x centered\">605.7952847097032</desc><desc class=\"y centered\">424.68408587324734</desc><desc class=\"x_label\">golearn</desc></g></g></g></g><g class=\"titles\"/><g transform=\"translate(66, 20)\" class=\"plot overlay\"><g class=\"series serie-0 color-0\"/></g><g transform=\"translate(66, 20)\" class=\"plot text-overlay\"><g class=\"series serie-0 color-0\"/></g><g transform=\"translate(66, 20)\" class=\"plot tooltip-overlay\"><g transform=\"translate(0 0)\" style=\"opacity: 0\" class=\"tooltip\"><rect rx=\"0\" ry=\"0\" width=\"0\" height=\"0\" class=\"tooltip-box\"/><g class=\"text\"/></g></g></g></svg>"
      ],
      "text/plain": [
       "<pygal.graph.bar.Bar at 0x27d7c3235c8>"
      ]
     },
     "execution_count": 16,
     "metadata": {},
     "output_type": "execute_result"
    }
   ],
   "source": [
    "chart.add('Github',stars)"
   ]
  },
  {
   "cell_type": "code",
   "execution_count": 17,
   "metadata": {},
   "outputs": [],
   "source": [
    "chart.render_to_file('python_repos.svg')"
   ]
  },
  {
   "cell_type": "code",
   "execution_count": null,
   "metadata": {},
   "outputs": [],
   "source": []
  },
  {
   "cell_type": "code",
   "execution_count": null,
   "metadata": {},
   "outputs": [],
   "source": []
  },
  {
   "cell_type": "code",
   "execution_count": null,
   "metadata": {},
   "outputs": [],
   "source": []
  },
  {
   "cell_type": "code",
   "execution_count": null,
   "metadata": {},
   "outputs": [],
   "source": []
  },
  {
   "cell_type": "code",
   "execution_count": null,
   "metadata": {},
   "outputs": [],
   "source": []
  },
  {
   "cell_type": "code",
   "execution_count": null,
   "metadata": {},
   "outputs": [],
   "source": []
  },
  {
   "cell_type": "code",
   "execution_count": null,
   "metadata": {},
   "outputs": [],
   "source": []
  }
 ],
 "metadata": {
  "kernelspec": {
   "display_name": "Python 3",
   "language": "python",
   "name": "python3"
  },
  "language_info": {
   "codemirror_mode": {
    "name": "ipython",
    "version": 3
   },
   "file_extension": ".py",
   "mimetype": "text/x-python",
   "name": "python",
   "nbconvert_exporter": "python",
   "pygments_lexer": "ipython3",
   "version": "3.7.4"
  }
 },
 "nbformat": 4,
 "nbformat_minor": 2
}
